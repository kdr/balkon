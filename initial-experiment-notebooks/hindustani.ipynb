{
 "cells": [
  {
   "cell_type": "code",
   "execution_count": 3,
   "metadata": {},
   "outputs": [],
   "source": [
    "import music21 as m21\n",
    "from markovmodel.extensions import MultiInstanceTrainableMarkovChainMelodyGenerator"
   ]
  },
  {
   "cell_type": "markdown",
   "metadata": {},
   "source": [
    "## Load MIDI file"
   ]
  },
  {
   "cell_type": "code",
   "execution_count": 4,
   "metadata": {},
   "outputs": [
    {
     "name": "stdout",
     "output_type": "stream",
     "text": [
      "['C#4', 0.25]\n",
      "['C4', 0.75]\n",
      "['C#4', 1.25]\n",
      "['F4', 1.25]\n",
      "['G#4', 0.25]\n",
      "['F#4', 0.25]\n",
      "['F#4', 1.0]\n",
      "['G#4', 1.25]\n",
      "['C5', 2.0]\n",
      "['C#5', 0.25]\n"
     ]
    },
    {
     "name": "stderr",
     "output_type": "stream",
     "text": [
      "c:\\Users\\vivek\\Desktop\\markov models\\venv\\Lib\\site-packages\\IPython\\core\\interactiveshell.py:3577: Music21DeprecationWarning: .flat is deprecated.  Call .flatten() instead\n",
      "  exec(code_obj, self.user_global_ns, self.user_ns)\n"
     ]
    }
   ],
   "source": [
    "midi = m21.converter.parse('midi/Behag.mid')\n",
    "\n",
    "notes = []\n",
    "\n",
    "for element in midi.flat:\n",
    "    if isinstance(element, m21.note.Note):\n",
    "        duration = round(element.quarterLength * 4) / 4\n",
    "        notes.append([str(element.pitch), duration])\n",
    "\n",
    "for note in notes[:10]:\n",
    "    print(note)"
   ]
  },
  {
   "cell_type": "code",
   "execution_count": 5,
   "metadata": {},
   "outputs": [
    {
     "data": {
      "text/html": [
       "\n",
       "        <div id=\"midiPlayerDiv3934\"></div>\n",
       "        <link rel=\"stylesheet\" href=\"https://cuthbertLab.github.io/music21j/css/m21.css\">\n",
       "        \n",
       "        <script\n",
       "        src=\"https://cdnjs.cloudflare.com/ajax/libs/require.js/2.3.6/require.min.js\"\n",
       "        ></script>\n",
       "    \n",
       "        <script>\n",
       "        function midiPlayerDiv3934_play() {\n",
       "            const rq = require.config({\n",
       "                paths: {\n",
       "                    'music21': 'https://cuthbertLab.github.io/music21j/releases/music21.debug',\n",
       "                }\n",
       "            });\n",
       "            rq(['music21'], function(music21) {\n",
       "                mp = new music21.miditools.MidiPlayer();\n",
       "                mp.addPlayer(\"#midiPlayerDiv3934\");\n",
       "                mp.base64Load(\"data:audio/midi;base64,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\");\n",
       "            });\n",
       "        }\n",
       "        if (typeof require === 'undefined') {\n",
       "            setTimeout(midiPlayerDiv3934_play, 2000);\n",
       "        } else {\n",
       "            midiPlayerDiv3934_play();\n",
       "        }\n",
       "        </script>"
      ],
      "text/plain": [
       "<IPython.core.display.HTML object>"
      ]
     },
     "metadata": {},
     "output_type": "display_data"
    }
   ],
   "source": [
    "stream = m21.stream.Stream()\n",
    "\n",
    "for i in range(len(notes)):\n",
    "    note = m21.note.Note(notes[i][0], quarterLength=notes[i][1])\n",
    "    stream.append(note)\n",
    "\n",
    "stream.show('midi')"
   ]
  },
  {
   "cell_type": "markdown",
   "metadata": {},
   "source": [
    "## State space"
   ]
  },
  {
   "cell_type": "code",
   "execution_count": 6,
   "metadata": {},
   "outputs": [
    {
     "name": "stdout",
     "output_type": "stream",
     "text": [
      "('B-3', 0.25)\n",
      "('G#3', 2.5)\n",
      "('G#4', 4.0)\n",
      "('C#4', 0.25)\n",
      "('C#4', 0.75)\n",
      "('C#4', 0.5)\n",
      "('C#5', 1.0)\n",
      "('B-4', 1.25)\n",
      "('G#4', 2.0)\n",
      "('C#4', 2.25)\n"
     ]
    }
   ],
   "source": [
    "states = set()\n",
    "\n",
    "for i in range(len(notes)):\n",
    "    note = (notes[i][0], notes[i][1])\n",
    "    states.add(note)\n",
    "\n",
    "for state in list(states)[:10]:\n",
    "    print(state)"
   ]
  },
  {
   "cell_type": "markdown",
   "metadata": {},
   "source": [
    "## Training data"
   ]
  },
  {
   "cell_type": "code",
   "execution_count": 7,
   "metadata": {},
   "outputs": [
    {
     "name": "stdout",
     "output_type": "stream",
     "text": [
      "<music21.note.Note C#>\n",
      "<music21.note.Note C>\n",
      "<music21.note.Note C#>\n",
      "<music21.note.Note F>\n",
      "<music21.note.Note G#>\n",
      "<music21.note.Note F#>\n",
      "<music21.note.Note F#>\n",
      "<music21.note.Note G#>\n",
      "<music21.note.Note C>\n",
      "<music21.note.Note C#>\n"
     ]
    }
   ],
   "source": [
    "training_data = []\n",
    "\n",
    "for i in range(len(notes)):\n",
    "    training_data.append(m21.note.Note(notes[i][0], quarterLength=notes[i][1]))\n",
    "\n",
    "for note in training_data[:10]:\n",
    "    print(note)"
   ]
  },
  {
   "cell_type": "markdown",
   "metadata": {},
   "source": [
    "## Training model"
   ]
  },
  {
   "cell_type": "code",
   "execution_count": 8,
   "metadata": {},
   "outputs": [],
   "source": [
    "model = MultiInstanceTrainableMarkovChainMelodyGenerator(list(states))\n",
    "model.train([training_data])"
   ]
  },
  {
   "cell_type": "markdown",
   "metadata": {},
   "source": [
    "## Test"
   ]
  },
  {
   "cell_type": "code",
   "execution_count": 9,
   "metadata": {},
   "outputs": [],
   "source": [
    "generated_melody = model.generate(15)[0]"
   ]
  },
  {
   "cell_type": "code",
   "execution_count": 10,
   "metadata": {},
   "outputs": [
    {
     "name": "stdout",
     "output_type": "stream",
     "text": [
      "('E-4', 0.25)\n",
      "('C#4', 2.5)\n",
      "('F4', 0.25)\n",
      "('G#4', 0.25)\n",
      "('F#4', 0.5)\n",
      "('G#4', 1.0)\n",
      "('G#4', 2.5)\n",
      "('F#4', 0.25)\n",
      "('F4', 0.5)\n",
      "('F4', 0.25)\n"
     ]
    }
   ],
   "source": [
    "for note in generated_melody[:10]:\n",
    "    print(note)"
   ]
  },
  {
   "cell_type": "code",
   "execution_count": 11,
   "metadata": {},
   "outputs": [
    {
     "data": {
      "text/html": [
       "\n",
       "        <div id=\"midiPlayerDiv4018\"></div>\n",
       "        <link rel=\"stylesheet\" href=\"https://cuthbertLab.github.io/music21j/css/m21.css\">\n",
       "        \n",
       "        <script\n",
       "        src=\"https://cdnjs.cloudflare.com/ajax/libs/require.js/2.3.6/require.min.js\"\n",
       "        ></script>\n",
       "    \n",
       "        <script>\n",
       "        function midiPlayerDiv4018_play() {\n",
       "            const rq = require.config({\n",
       "                paths: {\n",
       "                    'music21': 'https://cuthbertLab.github.io/music21j/releases/music21.debug',\n",
       "                }\n",
       "            });\n",
       "            rq(['music21'], function(music21) {\n",
       "                mp = new music21.miditools.MidiPlayer();\n",
       "                mp.addPlayer(\"#midiPlayerDiv4018\");\n",
       "                mp.base64Load(\"data:audio/midi;base64,TVRoZAAAAAYAAQACJ2BNVHJrAAAAFAD/UQMHoSAA/1gEBAIYCM5g/y8ATVRyawAAAJgA/wMAAOAAQM5gkD9ak1iAPwAAkD1agcRwgD0AAJBBWpNYgEEAAJBEWpNYgEQAAJBCWqcwgEIAAJBEWs5ggEQAAJBEWoHEcIBEAACQQlqTWIBCAACQQVqnMIBBAACQQVqTWIBBAACQQlqTWIBCAACQRFqTWIBEAACQSFqCuwCASAAAkEhazmCASAAAkERak1iARADOYP8vAA==\");\n",
       "            });\n",
       "        }\n",
       "        if (typeof require === 'undefined') {\n",
       "            setTimeout(midiPlayerDiv4018_play, 2000);\n",
       "        } else {\n",
       "            midiPlayerDiv4018_play();\n",
       "        }\n",
       "        </script>"
      ],
      "text/plain": [
       "<IPython.core.display.HTML object>"
      ]
     },
     "metadata": {},
     "output_type": "display_data"
    }
   ],
   "source": [
    "stream = m21.stream.Stream()\n",
    "\n",
    "for i in range(len(generated_melody)):\n",
    "    note = m21.note.Note(generated_melody[i][0], quarterLength=generated_melody[i][1])\n",
    "    stream.append(note)\n",
    "\n",
    "stream.show('midi')"
   ]
  },
  {
   "cell_type": "code",
   "execution_count": 12,
   "metadata": {},
   "outputs": [],
   "source": [
    "generated_melody = model.generate(20, previous_sequence=generated_melody)[0]"
   ]
  },
  {
   "cell_type": "code",
   "execution_count": 13,
   "metadata": {},
   "outputs": [
    {
     "data": {
      "text/html": [
       "\n",
       "        <div id=\"midiPlayerDiv4197\"></div>\n",
       "        <link rel=\"stylesheet\" href=\"https://cuthbertLab.github.io/music21j/css/m21.css\">\n",
       "        \n",
       "        <script\n",
       "        src=\"https://cdnjs.cloudflare.com/ajax/libs/require.js/2.3.6/require.min.js\"\n",
       "        ></script>\n",
       "    \n",
       "        <script>\n",
       "        function midiPlayerDiv4197_play() {\n",
       "            const rq = require.config({\n",
       "                paths: {\n",
       "                    'music21': 'https://cuthbertLab.github.io/music21j/releases/music21.debug',\n",
       "                }\n",
       "            });\n",
       "            rq(['music21'], function(music21) {\n",
       "                mp = new music21.miditools.MidiPlayer();\n",
       "                mp.addPlayer(\"#midiPlayerDiv4197\");\n",
       "                mp.base64Load(\"data:audio/midi;base64,TVRoZAAAAAYAAQACJ2BNVHJrAAAAFAD/UQMHoSAA/1gEBAIYCM5g/y8ATVRyawAAAUcA/wMAAOAAQM5gkD9ak1iAPwAAkD1agcRwgD0AAJBBWpNYgEEAAJBEWpNYgEQAAJBCWqcwgEIAAJBEWs5ggEQAAJBEWoHEcIBEAACQQlqTWIBCAACQQVqnMIBBAACQQVqTWIBBAACQQlqTWIBCAACQRFqTWIBEAACQSFqCuwCASAAAkEhazmCASAAAkERak1iARAAAkEJak1iAQgAAkEFak1iAQQAAkEJak1iAQgAAkEFak1iAQQAAkEFak1iAQQAAkEJauwiAQgAAkERak1iARAAAkEhagYlogEgAAJBIWrsIgEgAAJBEWqcwgEQAAJBIWs5ggEgAAJBGWpNYgEYAAJBEWpNYgEQAAJBBWpNYgEEAAJBBWoH/eIBBAACQP1qTWIA/AACQPVqBxHCAPQAAkB1ak1iAHQAAkD1agcRwgD0AzmD/LwA=\");\n",
       "            });\n",
       "        }\n",
       "        if (typeof require === 'undefined') {\n",
       "            setTimeout(midiPlayerDiv4197_play, 2000);\n",
       "        } else {\n",
       "            midiPlayerDiv4197_play();\n",
       "        }\n",
       "        </script>"
      ],
      "text/plain": [
       "<IPython.core.display.HTML object>"
      ]
     },
     "metadata": {},
     "output_type": "display_data"
    }
   ],
   "source": [
    "stream = m21.stream.Stream()\n",
    "\n",
    "for i in range(len(generated_melody)):\n",
    "    note = m21.note.Note(generated_melody[i][0], quarterLength=generated_melody[i][1])\n",
    "    stream.append(note)\n",
    "\n",
    "stream.show('midi')"
   ]
  },
  {
   "cell_type": "code",
   "execution_count": 395,
   "metadata": {},
   "outputs": [
    {
     "data": {
      "text/plain": [
       "'generated_melody.mid'"
      ]
     },
     "execution_count": 395,
     "metadata": {},
     "output_type": "execute_result"
    }
   ],
   "source": [
    "stream.write('midi', fp='generated_melody.mid')"
   ]
  }
 ],
 "metadata": {
  "kernelspec": {
   "display_name": "venv",
   "language": "python",
   "name": "python3"
  },
  "language_info": {
   "codemirror_mode": {
    "name": "ipython",
    "version": 3
   },
   "file_extension": ".py",
   "mimetype": "text/x-python",
   "name": "python",
   "nbconvert_exporter": "python",
   "pygments_lexer": "ipython3",
   "version": "3.12.4"
  }
 },
 "nbformat": 4,
 "nbformat_minor": 2
}
