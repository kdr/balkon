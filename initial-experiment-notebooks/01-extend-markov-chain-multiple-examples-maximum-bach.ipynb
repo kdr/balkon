{
 "cells": [
  {
   "cell_type": "code",
   "execution_count": 1,
   "id": "e6f11fb0-41e4-4cca-b510-ee88e85b0789",
   "metadata": {},
   "outputs": [
    {
     "data": {
      "text/plain": [
       "433"
      ]
     },
     "execution_count": 1,
     "metadata": {},
     "output_type": "execute_result"
    }
   ],
   "source": [
    "from music21 import corpus\n",
    "# Now try training on more bach\n",
    "paths = corpus.getComposer('bach')\n",
    "len(paths)"
   ]
  },
  {
   "cell_type": "code",
   "execution_count": 2,
   "id": "d78f4843-409c-45a8-8d5c-3f8a3b88d5ba",
   "metadata": {},
   "outputs": [
    {
     "data": {
      "text/plain": [
       "[PosixPath('/Users/kdr/.pyenv/versions/3.12.8/envs/default/lib/python3.12/site-packages/music21/corpus/bach/bwv1.6.mxl'),\n",
       " PosixPath('/Users/kdr/.pyenv/versions/3.12.8/envs/default/lib/python3.12/site-packages/music21/corpus/bach/bwv10.7.mxl'),\n",
       " PosixPath('/Users/kdr/.pyenv/versions/3.12.8/envs/default/lib/python3.12/site-packages/music21/corpus/bach/bwv101.7.mxl'),\n",
       " PosixPath('/Users/kdr/.pyenv/versions/3.12.8/envs/default/lib/python3.12/site-packages/music21/corpus/bach/bwv102.7.mxl'),\n",
       " PosixPath('/Users/kdr/.pyenv/versions/3.12.8/envs/default/lib/python3.12/site-packages/music21/corpus/bach/bwv103.6.mxl')]"
      ]
     },
     "execution_count": 2,
     "metadata": {},
     "output_type": "execute_result"
    }
   ],
   "source": [
    "paths[:5]"
   ]
  },
  {
   "cell_type": "code",
   "execution_count": 22,
   "id": "2d7b1aba-1c42-4453-966b-6cb325494f29",
   "metadata": {},
   "outputs": [
    {
     "name": "stderr",
     "output_type": "stream",
     "text": [
      "100%|█████████████████████████████████████████████████████████████████████████████████████████████████████████████████████████████████████████████████████████████████████████| 433/433 [00:07<00:00, 57.78it/s]\n"
     ]
    }
   ],
   "source": [
    "from tqdm import tqdm\n",
    "from music21 import corpus, metadata, note, stream\n",
    "\n",
    "all_states = set()\n",
    "all_pitches = set()\n",
    "all_durations = set()\n",
    "training_data = []\n",
    "chord_occurence_count = 0\n",
    "note_count = 0\n",
    "for p in tqdm(paths):\n",
    "    # Load the score\n",
    "    s = corpus.parse(p)\n",
    "    \n",
    "    soprano_part = None\n",
    "    for part in s.parts:\n",
    "        if \"Soprano\" in (part.partName or \"\"):  # Check for 'Soprano' in the part name\n",
    "            soprano_part = part\n",
    "            break\n",
    "    \n",
    "    # Fallback if no explicit Soprano part is named\n",
    "    if soprano_part is None:\n",
    "        # Assume the first part is the Soprano if no explicit naming is found\n",
    "        soprano_part = s.parts[0]\n",
    "    \n",
    "    # Extract notes and rests (pitch and duration)\n",
    "    notes_sequence = []\n",
    "    for element in soprano_part.flat.notesAndRests:  # Include notes and rests\n",
    "        if element.isNote:\n",
    "            notes_sequence.append((element.pitch.nameWithOctave, element.quarterLength))\n",
    "        elif element.isChord:        \n",
    "            # If there's a chord, take the highest note (melodic line usually uses the top note)\n",
    "            #notes_sequence.append((element.highestNote.nameWithOctave, element.quarterLength))\n",
    "\n",
    "            # Get the bass (lowest) note of the chord\n",
    "            bass_note = element.bass()\n",
    "            notes_sequence.append((bass_note.nameWithOctave, element.quarterLength))\n",
    "\n",
    "            chord_occurence_count += 1\n",
    "        elif element.isRest:\n",
    "            notes_sequence.append(('Rest', element.quarterLength))\n",
    "\n",
    "    notes = []\n",
    "    for pitch, duration in notes_sequence:    \n",
    "        all_pitches.add(pitch)\n",
    "        all_durations.add(duration)\n",
    "        s = (pitch, duration)\n",
    "        if pitch == 'Rest':\n",
    "            notes.append(note.Rest(quarterLength=s[1]))\n",
    "            #ignore rests for now\n",
    "            #pass\n",
    "        else:\n",
    "            notes.append(note.Note(s[0], quarterLength=s[1]))        \n",
    "        all_states.add(s)    \n",
    "    training_data.append(notes)\n",
    "    note_count += len(notes)"
   ]
  },
  {
   "cell_type": "code",
   "execution_count": 26,
   "id": "85413d8b-ed2d-4a11-a4e2-b1e4e137c13c",
   "metadata": {},
   "outputs": [
    {
     "data": {
      "text/plain": [
       "0.980332504927586"
      ]
     },
     "execution_count": 26,
     "metadata": {},
     "output_type": "execute_result"
    }
   ],
   "source": [
    "22879/23338 # percent non rest"
   ]
  },
  {
   "cell_type": "code",
   "execution_count": 23,
   "id": "834f6cb2-86cc-4aeb-b587-18e81f50852d",
   "metadata": {},
   "outputs": [
    {
     "data": {
      "text/plain": [
       "(23338, 1156, 433)"
      ]
     },
     "execution_count": 23,
     "metadata": {},
     "output_type": "execute_result"
    }
   ],
   "source": [
    "note_count, chord_occurence_count, len(training_data)"
   ]
  },
  {
   "cell_type": "code",
   "execution_count": 27,
   "id": "69ec1bc1-90d8-4f88-be3e-83ea11c7c666",
   "metadata": {},
   "outputs": [
    {
     "data": {
      "text/plain": [
       "212"
      ]
     },
     "execution_count": 27,
     "metadata": {},
     "output_type": "execute_result"
    }
   ],
   "source": [
    "len(all_states)"
   ]
  },
  {
   "cell_type": "code",
   "execution_count": 28,
   "id": "8f95b53f-76bc-4ef5-9620-f12026dc0864",
   "metadata": {},
   "outputs": [
    {
     "data": {
      "text/plain": [
       "41"
      ]
     },
     "execution_count": 28,
     "metadata": {},
     "output_type": "execute_result"
    }
   ],
   "source": [
    "len(all_pitches)"
   ]
  },
  {
   "cell_type": "code",
   "execution_count": 29,
   "id": "27feaee4-a762-49e0-95b6-2d64d2b7bc0c",
   "metadata": {},
   "outputs": [
    {
     "name": "stdout",
     "output_type": "stream",
     "text": [
      "['A#4', 'A#5', 'A-4', 'A-5', 'A3', 'A4', 'A5', 'B#4', 'B-3', 'B-4', 'B3', 'B4', 'C#4', 'C#5', 'C4', 'C5', 'D#4', 'D#5', 'D-5', 'D3', 'D4', 'D5', 'E#4', 'E#5', 'E-4', 'E-5', 'E4', 'E5', 'F#4', 'F#5', 'F3', 'F4', 'F5', 'G#4', 'G#5', 'G-4', 'G-5', 'G3', 'G4', 'G5', 'Rest']\n"
     ]
    }
   ],
   "source": [
    "print(sorted(all_pitches))"
   ]
  },
  {
   "cell_type": "code",
   "execution_count": 30,
   "id": "69a17362-e5c6-4f2f-abba-c3c8d8331b86",
   "metadata": {},
   "outputs": [
    {
     "data": {
      "text/plain": [
       "12"
      ]
     },
     "execution_count": 30,
     "metadata": {},
     "output_type": "execute_result"
    }
   ],
   "source": [
    "len(all_durations)"
   ]
  },
  {
   "cell_type": "code",
   "execution_count": 31,
   "id": "32730cca-60ec-4063-8d15-3a361b97ee10",
   "metadata": {},
   "outputs": [
    {
     "data": {
      "text/plain": [
       "{0.0, 0.125, 0.25, 0.5, 0.75, 1.0, 1.5, 2.0, 3.0, 4.0, 6.0, 8.0}"
      ]
     },
     "execution_count": 31,
     "metadata": {},
     "output_type": "execute_result"
    }
   ],
   "source": [
    "all_durations"
   ]
  },
  {
   "cell_type": "code",
   "execution_count": null,
   "id": "17df65a1-4ef6-457d-8375-53986ea85850",
   "metadata": {},
   "outputs": [],
   "source": []
  },
  {
   "cell_type": "code",
   "execution_count": 32,
   "id": "6ec9820a-537a-4ebd-b955-b4af76941ef6",
   "metadata": {},
   "outputs": [],
   "source": [
    "from simplemelodygen.extensions import MultiInstanceTrainableMarkovChainMelodyGenerator\n",
    "model = MultiInstanceTrainableMarkovChainMelodyGenerator(list(all_states))"
   ]
  },
  {
   "cell_type": "code",
   "execution_count": 33,
   "id": "b0f75015-ebd0-4304-bde8-4fc2de8548c4",
   "metadata": {},
   "outputs": [
    {
     "name": "stdout",
     "output_type": "stream",
     "text": [
      "CPU times: user 65.3 ms, sys: 2.02 ms, total: 67.3 ms\n",
      "Wall time: 66.7 ms\n"
     ]
    }
   ],
   "source": [
    "%%time\n",
    "model.train(training_data)"
   ]
  },
  {
   "cell_type": "code",
   "execution_count": null,
   "id": "778b94ba-f368-4b6c-a984-2651126f58e3",
   "metadata": {},
   "outputs": [],
   "source": []
  },
  {
   "cell_type": "code",
   "execution_count": null,
   "id": "d9f9698f-ee6d-45ba-9889-e84b350b88b0",
   "metadata": {},
   "outputs": [],
   "source": []
  },
  {
   "cell_type": "code",
   "execution_count": 39,
   "id": "eda5b5e5-5f01-42e6-a9f6-890fdfa51810",
   "metadata": {},
   "outputs": [
    {
     "name": "stdout",
     "output_type": "stream",
     "text": [
      "CPU times: user 2.48 ms, sys: 988 μs, total: 3.46 ms\n",
      "Wall time: 3.02 ms\n"
     ]
    }
   ],
   "source": [
    "%%time\n",
    "generated_melody = model.generate(30)"
   ]
  },
  {
   "cell_type": "code",
   "execution_count": 40,
   "id": "17cda5e5-954b-41d7-91c9-cf30e1943d74",
   "metadata": {},
   "outputs": [],
   "source": [
    "from music21 import metadata, note, stream\n",
    "\n",
    "score = stream.Score()\n",
    "score.metadata = metadata.Metadata(title=\"Markov Chain Melody - Random Bach II\")\n",
    "part = stream.Part()\n",
    "for n, d in generated_melody:\n",
    "    if n == 'Rest':\n",
    "        part.append(note.Rest(quarterLength=d))    \n",
    "    else:\n",
    "        part.append(note.Note(n, quarterLength=d))\n",
    "score.append(part)"
   ]
  },
  {
   "cell_type": "code",
   "execution_count": 41,
   "id": "46b50e30-e471-44f8-b36e-24863b955a5c",
   "metadata": {},
   "outputs": [
    {
     "data": {
      "text/html": [
       "\n",
       "        <div id=\"midiPlayerDiv405869\"></div>\n",
       "        <link rel=\"stylesheet\" href=\"https://cuthbertLab.github.io/music21j/css/m21.css\">\n",
       "        \n",
       "        <script\n",
       "        src=\"https://cdnjs.cloudflare.com/ajax/libs/require.js/2.3.6/require.min.js\"\n",
       "        ></script>\n",
       "    \n",
       "        <script>\n",
       "        function midiPlayerDiv405869_play() {\n",
       "            const rq = require.config({\n",
       "                paths: {\n",
       "                    'music21': 'https://cuthbertLab.github.io/music21j/releases/music21.debug',\n",
       "                }\n",
       "            });\n",
       "            rq(['music21'], function(music21) {\n",
       "                mp = new music21.miditools.MidiPlayer();\n",
       "                mp.addPlayer(\"#midiPlayerDiv405869\");\n",
       "                mp.base64Load(\"data:audio/midi;base64,TVRoZAAAAAYAAQACJ2BNVHJrAAAAFAD/UQMHoSAA/1gEBAIYCM5g/y8ATVRyawAAARYA/wMAAOAAQM5gkEVapzCARQAAkEdapzCARwAAkENapzCAQwAAkEFapzCAQQAAkENapzCAQwAAkEJapzCAQgAAkERazmCARAAAkEVazmCARQAAkENapzCAQwAAkEVazmCARQAAkEVazmCARQAAkENazmCAQwAAkEVagZ1AgEUAAJBFWs5ggEUAAJBFWs5ggEUAAJBDWs5ggEMAAJBFWs5ggEUAAJBDWs5ggEMAAJBFWs5ggEUAAJBHWs5ggEcAAJBFWs5ggEUAAJBDWoGdQIBDAM5gkEpazmCASgAAkEhazmCASAAAkElazmCASQAAkEhazmCASAAAkEZazmCARgAAkEZazmCARgAAkEhazmCASADOYP8vAA==\");\n",
       "            });\n",
       "        }\n",
       "        if (typeof require === 'undefined') {\n",
       "            setTimeout(midiPlayerDiv405869_play, 2000);\n",
       "        } else {\n",
       "            midiPlayerDiv405869_play();\n",
       "        }\n",
       "        </script>"
      ],
      "text/plain": [
       "<IPython.core.display.HTML object>"
      ]
     },
     "metadata": {},
     "output_type": "display_data"
    }
   ],
   "source": [
    "score.show('midi')"
   ]
  },
  {
   "cell_type": "code",
   "execution_count": 42,
   "id": "8866486a-6adf-4757-a789-e943827dfc6c",
   "metadata": {},
   "outputs": [
    {
     "data": {
      "image/png": "[encoded data removed]",
      "text/plain": [
       "<IPython.core.display.Image object>"
      ]
     },
     "metadata": {
      "image/png": {
       "height": 287,
       "width": 708
      }
     },
     "output_type": "display_data"
    }
   ],
   "source": [
    "score.show()"
   ]
  },
  {
   "cell_type": "code",
   "execution_count": null,
   "id": "36641b00-59eb-497b-9255-bf25cba4d3b1",
   "metadata": {},
   "outputs": [],
   "source": []
  },
  {
   "cell_type": "code",
   "execution_count": null,
   "id": "cefad630-b124-4a61-8dcd-014f01321f77",
   "metadata": {},
   "outputs": [],
   "source": []
  },
  {
   "cell_type": "code",
   "execution_count": null,
   "id": "7d0f77a5-e9ae-4646-aeb6-4fecfad90ea7",
   "metadata": {},
   "outputs": [],
   "source": []
  }
 ],
 "metadata": {
  "kernelspec": {
   "display_name": "Python 3 (ipykernel)",
   "language": "python",
   "name": "python3"
  },
  "language_info": {
   "codemirror_mode": {
    "name": "ipython",
    "version": 3
   },
   "file_extension": ".py",
   "mimetype": "text/x-python",
   "name": "python",
   "nbconvert_exporter": "python",
   "pygments_lexer": "ipython3",
   "version": "3.12.8"
  }
 },
 "nbformat": 4,
 "nbformat_minor": 5
}
