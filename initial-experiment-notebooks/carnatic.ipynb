{
 "cells": [
  {
   "cell_type": "code",
   "execution_count": 3,
   "metadata": {},
   "outputs": [],
   "source": [
    "import music21 as m21\n",
    "from simplemelodygen.extensions import MultiInstanceTrainableMarkovChainMelodyGenerator"
   ]
  },
  {
   "cell_type": "markdown",
   "metadata": {},
   "source": [
    "## Load MIDI file"
   ]
  },
  {
   "cell_type": "code",
   "execution_count": 23,
   "metadata": {},
   "outputs": [
    {
     "name": "stdout",
     "output_type": "stream",
     "text": [
      "['E4', 1.25]\n",
      "['F#4', 1.0]\n",
      "['A4', 0.25]\n",
      "['G4', 0.5]\n",
      "['A4', 0.25]\n",
      "['G4', 0.5]\n",
      "['A4', 0.25]\n",
      "['A4', 0.25]\n",
      "['F#4', 1.25]\n",
      "['E4', 2.5]\n"
     ]
    }
   ],
   "source": [
    "midi = m21.converter.parse('midi/kanada.mid')\n",
    "\n",
    "notes = []\n",
    "\n",
    "for element in midi.flat:\n",
    "    if isinstance(element, m21.note.Note):\n",
    "        duration = round(element.quarterLength * 4) / 4\n",
    "        notes.append([str(element.pitch), duration])\n",
    "\n",
    "for note in notes[:10]:\n",
    "    print(note)"
   ]
  },
  {
   "cell_type": "code",
   "execution_count": 24,
   "metadata": {},
   "outputs": [
    {
     "data": {
      "text/html": [
       "\n",
       "        <div id=\"midiPlayerDiv4945\"></div>\n",
       "        <link rel=\"stylesheet\" href=\"https://cuthbertLab.github.io/music21j/css/m21.css\">\n",
       "        \n",
       "        <script\n",
       "        src=\"https://cdnjs.cloudflare.com/ajax/libs/require.js/2.3.6/require.min.js\"\n",
       "        ></script>\n",
       "    \n",
       "        <script>\n",
       "        function midiPlayerDiv4945_play() {\n",
       "            const rq = require.config({\n",
       "                paths: {\n",
       "                    'music21': 'https://cuthbertLab.github.io/music21j/releases/music21.debug',\n",
       "                }\n",
       "            });\n",
       "            rq(['music21'], function(music21) {\n",
       "                mp = new music21.miditools.MidiPlayer();\n",
       "                mp.addPlayer(\"#midiPlayerDiv4945\");\n",
       "                mp.base64Load(\"data:audio/midi;base64,TVRoZAAAAAYAAQACJ2BNVHJrAAAAFAD/UQMHoSAA/1gEBAIYCM5g/y8ATVRyawAAAoYA/wMAAOAAQM5gkEBa4jiAQAAAkEJazmCAQgAAkEVak1iARQAAkENapzCAQwAAkEVak1iARQAAkENapzCAQwAAkEVak1iARQAAkEVak1iARQAAkEJa4jiAQgAAkEBagcRwgEAAAJA+WpNYgD4AAJBAWqcwgEAAAJA+WrsIgD4AAJA9WpNYgD0AAJA+WqcwgD4AAJBAWvYQgEAAAJA9WpNYgD0AAJBJWrsIgEkAAJBKWqcwgEoAAJBKWpNYgEoAAJBHWrsIgEcAAJBFWqcwgEUAAJBDWpNYgEMAAJBFWpNYgEUAAJBDWqcwgEMAAJBFWqcwgEUAAJBJWs5ggEkAAJBJWqcwgEkAAJBAWpNYgEAAAJBMWqcwgEwAAJBOWrsIgE4AAJBOWqcwgE4AAJBRWpNYgFEAAJBPWqcwgE8AAJBRWrsIgFEAAJBOWrsIgE4AAJBMWs5ggEwAAJBMWpNYgEwAAJBMWuI4gEwAAJBMWpNYgEwAAJBKWqcwgEoAAJBMWs5ggEwAAJBKWs5ggEoAAJBKWpNYgEoAAJBKWqcwgEoAAJBHWrsIgEcAAJBHWrsIgEcAAJBFWpNYgEUAAJBJWpNYgEkAAJBJWpNYgEkAAJBKWrsIgEoAAJBMWuI4gEwAAJBFWqcwgEUAAJBDWpNYgEMAAJBFWpNYgEUAAJBDWqcwgEMAAJBFWpNYgEUAAJBFWqcwgEUAAJBCWuI4gEIAAJBAWuI4gEAAAJBAWs5ggEAAAJA+WpNYgD4AAJBAWqcwgEAAAJA+WuI4gD4AAJA9WrsIgD0AAJA+WqcwgD4AAJBAWpNYgEAAAJBCWqcwgEIAAJBCWpNYgEIAAJBAWoGJaIBAAM5g/y8A\");\n",
       "            });\n",
       "        }\n",
       "        if (typeof require === 'undefined') {\n",
       "            setTimeout(midiPlayerDiv4945_play, 2000);\n",
       "        } else {\n",
       "            midiPlayerDiv4945_play();\n",
       "        }\n",
       "        </script>"
      ],
      "text/plain": [
       "<IPython.core.display.HTML object>"
      ]
     },
     "metadata": {},
     "output_type": "display_data"
    }
   ],
   "source": [
    "stream = m21.stream.Stream()\n",
    "\n",
    "for i in range(len(notes)):\n",
    "    note = m21.note.Note(notes[i][0], quarterLength=notes[i][1])\n",
    "    stream.append(note)\n",
    "\n",
    "stream.show('midi')"
   ]
  },
  {
   "cell_type": "markdown",
   "metadata": {},
   "source": [
    "## State space"
   ]
  },
  {
   "cell_type": "code",
   "execution_count": 25,
   "metadata": {},
   "outputs": [
    {
     "name": "stdout",
     "output_type": "stream",
     "text": [
      "('F#4', 1.0)\n",
      "('F#4', 1.25)\n",
      "('E5', 1.0)\n",
      "('E5', 1.25)\n",
      "('C#5', 0.75)\n",
      "('C#5', 0.5)\n",
      "('C#5', 0.25)\n",
      "('E4', 1.25)\n",
      "('E4', 1.0)\n",
      "('E4', 1.75)\n"
     ]
    }
   ],
   "source": [
    "states = set()\n",
    "\n",
    "for i in range(len(notes)):\n",
    "    note = (notes[i][0], notes[i][1])\n",
    "    states.add(note)\n",
    "\n",
    "for state in list(states)[:10]:\n",
    "    print(state)"
   ]
  },
  {
   "cell_type": "markdown",
   "metadata": {},
   "source": [
    "## Training data"
   ]
  },
  {
   "cell_type": "code",
   "execution_count": 26,
   "metadata": {},
   "outputs": [
    {
     "name": "stdout",
     "output_type": "stream",
     "text": [
      "<music21.note.Note E>\n",
      "<music21.note.Note F#>\n",
      "<music21.note.Note A>\n",
      "<music21.note.Note G>\n",
      "<music21.note.Note A>\n",
      "<music21.note.Note G>\n",
      "<music21.note.Note A>\n",
      "<music21.note.Note A>\n",
      "<music21.note.Note F#>\n",
      "<music21.note.Note E>\n"
     ]
    }
   ],
   "source": [
    "training_data = []\n",
    "\n",
    "for i in range(len(notes)):\n",
    "    training_data.append(m21.note.Note(notes[i][0], quarterLength=notes[i][1]))\n",
    "\n",
    "for note in training_data[:10]:\n",
    "    print(note)"
   ]
  },
  {
   "cell_type": "markdown",
   "metadata": {},
   "source": [
    "## Training model"
   ]
  },
  {
   "cell_type": "code",
   "execution_count": 27,
   "metadata": {},
   "outputs": [],
   "source": [
    "model = MultiInstanceTrainableMarkovChainMelodyGenerator(list(states))\n",
    "model.train([training_data])"
   ]
  },
  {
   "cell_type": "markdown",
   "metadata": {},
   "source": [
    "## Test"
   ]
  },
  {
   "cell_type": "code",
   "execution_count": 90,
   "metadata": {},
   "outputs": [],
   "source": [
    "generated_melody = model.generate(32)[0]"
   ]
  },
  {
   "cell_type": "code",
   "execution_count": 91,
   "metadata": {},
   "outputs": [],
   "source": [
    "total_duration = 0\n",
    "cropped_melody = []\n",
    "\n",
    "for note in generated_melody:\n",
    "    total_duration += note[1]\n",
    "    if total_duration >= 8:\n",
    "        break\n",
    "    cropped_melody.append(note)\n",
    "\n",
    "if total_duration < 8:\n",
    "    remaining_duration = 8 - total_duration\n",
    "    cropped_melody[-1] = (cropped_melody[-1][0], cropped_melody[-1][1] + remaining_duration)\n",
    "\n",
    "generated_melody = cropped_melody"
   ]
  },
  {
   "cell_type": "code",
   "execution_count": 92,
   "metadata": {},
   "outputs": [
    {
     "name": "stdout",
     "output_type": "stream",
     "text": [
      "('F#4', 1.25)\n",
      "('E4', 2.5)\n",
      "('D4', 0.25)\n",
      "('E4', 0.5)\n",
      "('D4', 1.25)\n",
      "('C#4', 0.75)\n",
      "('D4', 0.5)\n",
      "('E4', 0.25)\n",
      "('F#4', 0.5)\n"
     ]
    }
   ],
   "source": [
    "for note in generated_melody[:10]:\n",
    "    print(note)"
   ]
  },
  {
   "cell_type": "code",
   "execution_count": 96,
   "metadata": {},
   "outputs": [
    {
     "data": {
      "text/html": [
       "\n",
       "        <div id=\"midiPlayerDiv9379\"></div>\n",
       "        <link rel=\"stylesheet\" href=\"https://cuthbertLab.github.io/music21j/css/m21.css\">\n",
       "        \n",
       "        <script\n",
       "        src=\"https://cdnjs.cloudflare.com/ajax/libs/require.js/2.3.6/require.min.js\"\n",
       "        ></script>\n",
       "    \n",
       "        <script>\n",
       "        function midiPlayerDiv9379_play() {\n",
       "            const rq = require.config({\n",
       "                paths: {\n",
       "                    'music21': 'https://cuthbertLab.github.io/music21j/releases/music21.debug',\n",
       "                }\n",
       "            });\n",
       "            rq(['music21'], function(music21) {\n",
       "                mp = new music21.miditools.MidiPlayer();\n",
       "                mp.addPlayer(\"#midiPlayerDiv9379\");\n",
       "                mp.base64Load(\"data:audio/midi;base64,TVRoZAAAAAYAAQACJ2BNVHJrAAAAFAD/UQMHoSAA/1gEBAIYCM5g/y8ATVRyawAAAGAA/wMAAOAAQM5gkEJa4jiAQgAAkEBagcRwgEAAAJA+WpNYgD4AAJBAWqcwgEAAAJA+WuI4gD4AAJA9WrsIgD0AAJA+WqcwgD4AAJBAWpNYgEAAAJBCWqcwgEIAzmD/LwA=\");\n",
       "            });\n",
       "        }\n",
       "        if (typeof require === 'undefined') {\n",
       "            setTimeout(midiPlayerDiv9379_play, 2000);\n",
       "        } else {\n",
       "            midiPlayerDiv9379_play();\n",
       "        }\n",
       "        </script>"
      ],
      "text/plain": [
       "<IPython.core.display.HTML object>"
      ]
     },
     "metadata": {},
     "output_type": "display_data"
    }
   ],
   "source": [
    "stream = m21.stream.Stream()\n",
    "\n",
    "for i in range(len(generated_melody)):\n",
    "    note = m21.note.Note(generated_melody[i][0], quarterLength=generated_melody[i][1])\n",
    "    stream.append(note)\n",
    "\n",
    "stream.show('midi')"
   ]
  },
  {
   "cell_type": "code",
   "execution_count": 99,
   "metadata": {},
   "outputs": [],
   "source": [
    "previous_melody = generated_melody\n",
    "extended_melody, generated_melody = model.generate(32, previous_sequence=generated_melody)\n",
    "\n",
    "total_duration = 0\n",
    "cropped_melody = []\n",
    "\n",
    "for note in generated_melody:\n",
    "    total_duration += note[1]\n",
    "    if total_duration >= 8:\n",
    "        break\n",
    "    cropped_melody.append(note)\n",
    "\n",
    "if total_duration < 8:\n",
    "    remaining_duration = 8 - total_duration\n",
    "    cropped_melody[-1] = (cropped_melody[-1][0], cropped_melody[-1][1] + remaining_duration)\n",
    "\n",
    "extended_melody = previous_melody + cropped_melody\n",
    "\n",
    "generated_melody = extended_melody"
   ]
  },
  {
   "cell_type": "code",
   "execution_count": 100,
   "metadata": {},
   "outputs": [
    {
     "data": {
      "text/html": [
       "\n",
       "        <div id=\"midiPlayerDiv9652\"></div>\n",
       "        <link rel=\"stylesheet\" href=\"https://cuthbertLab.github.io/music21j/css/m21.css\">\n",
       "        \n",
       "        <script\n",
       "        src=\"https://cdnjs.cloudflare.com/ajax/libs/require.js/2.3.6/require.min.js\"\n",
       "        ></script>\n",
       "    \n",
       "        <script>\n",
       "        function midiPlayerDiv9652_play() {\n",
       "            const rq = require.config({\n",
       "                paths: {\n",
       "                    'music21': 'https://cuthbertLab.github.io/music21j/releases/music21.debug',\n",
       "                }\n",
       "            });\n",
       "            rq(['music21'], function(music21) {\n",
       "                mp = new music21.miditools.MidiPlayer();\n",
       "                mp.addPlayer(\"#midiPlayerDiv9652\");\n",
       "                mp.base64Load(\"data:audio/midi;base64,TVRoZAAAAAYAAQACJ2BNVHJrAAAAFAD/UQMHoSAA/1gEBAIYCM5g/y8ATVRyawAAAScA/wMAAOAAQM5gkEJa4jiAQgAAkEBagcRwgEAAAJA+WpNYgD4AAJBAWqcwgEAAAJA+WuI4gD4AAJA9WrsIgD0AAJA+WqcwgD4AAJBAWpNYgEAAAJBCWqcwgEIAAJBCWpNYgEIAAJBAWoGJaIBAAACQUVqTWIBRAACQT1qnMIBPAACQUVq7CIBRAACQTlq7CIBOAACQTFrOYIBMAACQTFqTWIBMAACQSlqnMIBKAACQTFrOYIBMAACQTFqTWIBMAACQTFriOIBMAACQTFqTWIBMAACQTFriOIBMAACQTFqTWIBMAACQTFriOIBMAACQTFqTWIBMAACQSlqnMIBKAACQR1q7CIBHAACQR1q7CIBHAACQR1q7CIBHAACQRVqTWIBFAM5g/y8A\");\n",
       "            });\n",
       "        }\n",
       "        if (typeof require === 'undefined') {\n",
       "            setTimeout(midiPlayerDiv9652_play, 2000);\n",
       "        } else {\n",
       "            midiPlayerDiv9652_play();\n",
       "        }\n",
       "        </script>"
      ],
      "text/plain": [
       "<IPython.core.display.HTML object>"
      ]
     },
     "metadata": {},
     "output_type": "display_data"
    }
   ],
   "source": [
    "stream = m21.stream.Stream()\n",
    "\n",
    "for i in range(len(generated_melody)):\n",
    "    note = m21.note.Note(generated_melody[i][0], quarterLength=generated_melody[i][1])\n",
    "    stream.append(note)\n",
    "\n",
    "stream.show('midi')"
   ]
  },
  {
   "cell_type": "code",
   "execution_count": 101,
   "metadata": {},
   "outputs": [
    {
     "data": {
      "text/plain": [
       "'generated_melody.mid'"
      ]
     },
     "execution_count": 101,
     "metadata": {},
     "output_type": "execute_result"
    }
   ],
   "source": [
    "stream.write('midi', fp='generated_melody.mid')"
   ]
  },
  {
   "cell_type": "code",
   "execution_count": null,
   "metadata": {},
   "outputs": [],
   "source": []
  }
 ],
 "metadata": {
  "kernelspec": {
   "display_name": "venv",
   "language": "python",
   "name": "python3"
  },
  "language_info": {
   "codemirror_mode": {
    "name": "ipython",
    "version": 3
   },
   "file_extension": ".py",
   "mimetype": "text/x-python",
   "name": "python",
   "nbconvert_exporter": "python",
   "pygments_lexer": "ipython3",
   "version": "3.12.4"
  }
 },
 "nbformat": 4,
 "nbformat_minor": 2
}
