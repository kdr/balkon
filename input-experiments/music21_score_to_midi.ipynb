{
 "cells": [
  {
   "cell_type": "code",
   "execution_count": 1,
   "id": "12db276b-be12-4901-9b19-0ac73fd41be5",
   "metadata": {},
   "outputs": [
    {
     "name": "stdout",
     "output_type": "stream",
     "text": [
      "MIDI file saved as output_score.mid\n"
     ]
    }
   ],
   "source": [
    "from music21 import stream, note, chord, midi\n",
    "\n",
    "# Example: Create a simple music21 score\n",
    "s = stream.Score()\n",
    "\n",
    "# Add a part to the score\n",
    "p = stream.Part()\n",
    "n1 = note.Note('C4', quarterLength=1.0)\n",
    "n2 = note.Note('E4', quarterLength=1.0)\n",
    "n3 = chord.Chord(['G4', 'B4'], quarterLength=2.0)\n",
    "\n",
    "# Add notes to the part\n",
    "p.append(n1)\n",
    "p.append(n2)\n",
    "p.append(n3)\n",
    "\n",
    "# Append part to the score\n",
    "s.append(p)\n",
    "\n",
    "# Export the score to MIDI\n",
    "midi_filename = \"output_score.mid\"\n",
    "mf = midi.translate.music21ObjectToMidiFile(s)\n",
    "mf.open(midi_filename, 'wb')\n",
    "mf.write()\n",
    "mf.close()\n",
    "\n",
    "print(f\"MIDI file saved as {midi_filename}\")"
   ]
  },
  {
   "cell_type": "code",
   "execution_count": 2,
   "id": "ea8fe7f1-6ef4-43a3-81f7-4daa661d5652",
   "metadata": {},
   "outputs": [
    {
     "data": {
      "image/png": "[encoded data removed]",
      "text/plain": [
       "<IPython.core.display.Image object>"
      ]
     },
     "metadata": {
      "image/png": {
       "height": 49,
       "width": 251
      }
     },
     "output_type": "display_data"
    }
   ],
   "source": [
    "s.show()"
   ]
  },
  {
   "cell_type": "code",
   "execution_count": 3,
   "id": "ca66fcdb-41a7-4737-8318-d321392368b0",
   "metadata": {},
   "outputs": [
    {
     "data": {
      "text/html": [
       "\n",
       "        <div id=\"midiPlayerDiv86\"></div>\n",
       "        <link rel=\"stylesheet\" href=\"https://cuthbertLab.github.io/music21j/css/m21.css\">\n",
       "        \n",
       "        <script\n",
       "        src=\"https://cdnjs.cloudflare.com/ajax/libs/require.js/2.3.6/require.min.js\"\n",
       "        ></script>\n",
       "    \n",
       "        <script>\n",
       "        function midiPlayerDiv86_play() {\n",
       "            const rq = require.config({\n",
       "                paths: {\n",
       "                    'music21': 'https://cuthbertLab.github.io/music21j/releases/music21.debug',\n",
       "                }\n",
       "            });\n",
       "            rq(['music21'], function(music21) {\n",
       "                mp = new music21.miditools.MidiPlayer();\n",
       "                mp.addPlayer(\"#midiPlayerDiv86\");\n",
       "                mp.base64Load(\"data:audio/midi;base64,TVRoZAAAAAYAAQACJ2BNVHJrAAAAFAD/UQMHoSAA/1gEBAIYCM5g/y8ATVRyawAAADIA/wMAAOAAQM5gkDxazmCAPAAAkEBazmCAQAAAkENaAJBHWoGdQIBDAACARwDOYP8vAA==\");\n",
       "            });\n",
       "        }\n",
       "        if (typeof require === 'undefined') {\n",
       "            setTimeout(midiPlayerDiv86_play, 2000);\n",
       "        } else {\n",
       "            midiPlayerDiv86_play();\n",
       "        }\n",
       "        </script>"
      ],
      "text/plain": [
       "<IPython.core.display.HTML object>"
      ]
     },
     "metadata": {},
     "output_type": "display_data"
    }
   ],
   "source": [
    "s.show('midi')"
   ]
  },
  {
   "cell_type": "code",
   "execution_count": null,
   "id": "828199f1-0096-4c43-a5db-7b62b81f6cac",
   "metadata": {},
   "outputs": [],
   "source": []
  },
  {
   "cell_type": "code",
   "execution_count": null,
   "id": "639e92b8-1ccf-4884-a07a-d014c31f8513",
   "metadata": {},
   "outputs": [],
   "source": []
  },
  {
   "cell_type": "code",
   "execution_count": 6,
   "id": "b370b75d-8e64-4acc-b788-0cb928e1e2a7",
   "metadata": {},
   "outputs": [],
   "source": [
    "from music21 import corpus, metadata, note, stream\n",
    "\n",
    "def show_score(melody, title='Markov Chain Melody'):\n",
    "    score = stream.Score()\n",
    "    score.metadata = metadata.Metadata(title=title)\n",
    "    part = stream.Part()\n",
    "    for n, d in melody:\n",
    "        if n == 'Rest':\n",
    "            part.append(note.Rest(quarterLength=d))    \n",
    "        else:\n",
    "            part.append(note.Note(n, quarterLength=d))\n",
    "    score.append(part)\n",
    "    \n",
    "    score.show('midi')\n",
    "    score.show()\n",
    "    return score"
   ]
  },
  {
   "cell_type": "code",
   "execution_count": 7,
   "id": "ab960d1e-eebe-4a47-9dcf-fa236c1129d2",
   "metadata": {},
   "outputs": [
    {
     "data": {
      "text/html": [
       "\n",
       "        <div id=\"midiPlayerDiv135\"></div>\n",
       "        <link rel=\"stylesheet\" href=\"https://cuthbertLab.github.io/music21j/css/m21.css\">\n",
       "        \n",
       "        <script\n",
       "        src=\"https://cdnjs.cloudflare.com/ajax/libs/require.js/2.3.6/require.min.js\"\n",
       "        ></script>\n",
       "    \n",
       "        <script>\n",
       "        function midiPlayerDiv135_play() {\n",
       "            const rq = require.config({\n",
       "                paths: {\n",
       "                    'music21': 'https://cuthbertLab.github.io/music21j/releases/music21.debug',\n",
       "                }\n",
       "            });\n",
       "            rq(['music21'], function(music21) {\n",
       "                mp = new music21.miditools.MidiPlayer();\n",
       "                mp.addPlayer(\"#midiPlayerDiv135\");\n",
       "                mp.base64Load(\"data:audio/midi;base64,TVRoZAAAAAYAAQACJ2BNVHJrAAAAFAD/UQMHoSAA/1gEBAIYCM5g/y8ATVRyawAAAE4A/wMAAOAAQM5gkEhazmCASAAAkEhazmCASAAAkE9azmCATwAAkE9azmCATwAAkFFazmCAUQAAkFFazmCAUQAAkE9agZ1AgE8AzmD/LwA=\");\n",
       "            });\n",
       "        }\n",
       "        if (typeof require === 'undefined') {\n",
       "            setTimeout(midiPlayerDiv135_play, 2000);\n",
       "        } else {\n",
       "            midiPlayerDiv135_play();\n",
       "        }\n",
       "        </script>"
      ],
      "text/plain": [
       "<IPython.core.display.HTML object>"
      ]
     },
     "metadata": {},
     "output_type": "display_data"
    },
    {
     "data": {
      "image/png": "[encoded data removed]",
      "text/plain": [
       "<IPython.core.display.Image object>"
      ]
     },
     "metadata": {
      "image/png": {
       "height": 156,
       "width": 674
      }
     },
     "output_type": "display_data"
    }
   ],
   "source": [
    "input_melody = [(\"C5\", 1.0), (\"C5\", 1.0), (\"G5\", 1.0), (\"G5\", 1.0), (\"A5\", 1.0), (\"A5\", 1.0), (\"G5\", 2.0)]\n",
    "\n",
    "score = show_score(input_melody, 'My Input: Twinkle Twinkle...')"
   ]
  },
  {
   "cell_type": "code",
   "execution_count": 9,
   "id": "e0d7656e-fabe-4580-afe2-c993e55ebde2",
   "metadata": {},
   "outputs": [],
   "source": [
    "def save_melody_to_midi(s, midi_filename):\n",
    "    mf = midi.translate.music21ObjectToMidiFile(s)\n",
    "    mf.open(midi_filename, 'wb')\n",
    "    mf.write()\n",
    "    mf.close()"
   ]
  },
  {
   "cell_type": "code",
   "execution_count": 10,
   "id": "bc53f22b-4182-4983-8656-ab2a411555b1",
   "metadata": {},
   "outputs": [],
   "source": [
    "save_melody_to_midi(score, 'twinkle.mid')"
   ]
  },
  {
   "cell_type": "code",
   "execution_count": null,
   "id": "2bfe1910-0ffb-4473-a103-275f0fc3a2d1",
   "metadata": {},
   "outputs": [],
   "source": []
  }
 ],
 "metadata": {
  "kernelspec": {
   "display_name": "Python 3 (ipykernel)",
   "language": "python",
   "name": "python3"
  },
  "language_info": {
   "codemirror_mode": {
    "name": "ipython",
    "version": 3
   },
   "file_extension": ".py",
   "mimetype": "text/x-python",
   "name": "python",
   "nbconvert_exporter": "python",
   "pygments_lexer": "ipython3",
   "version": "3.12.8"
  }
 },
 "nbformat": 4,
 "nbformat_minor": 5
}
